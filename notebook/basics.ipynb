{
 "cells": [
  {
   "cell_type": "markdown",
   "metadata": {},
   "source": [
    "# Basic (delimited) continuations\n",
    "\n",
    "Let's start by giving the `Functor`, `Applicative` and `Monad` instances for the continuation type constructor. Using an infix operator instead of the standard `runCont` helps reduce boilerplate."
   ]
  },
  {
   "cell_type": "code",
   "execution_count": 33,
   "metadata": {},
   "outputs": [],
   "source": [
    "{-# LANGUAGE InstanceSigs #-}\n",
    "\n",
    "newtype Cont r a = Cont { (>>-) :: (a -> r) -> r }\n",
    "\n",
    "instance Functor (Cont r) where\n",
    "    fmap :: (a -> b) -> Cont r a -> Cont r b\n",
    "    fmap f m = Cont $ \\k -> m >>- (k . f)\n",
    "    \n",
    "instance Applicative (Cont r) where\n",
    "    pure :: a -> Cont r a\n",
    "    pure a = Cont $ \\k -> k a\n",
    "    (<*>) :: Cont r (a -> b) -> Cont r a -> Cont r b\n",
    "    m <*> n = Cont $ \\k -> m >>- \\f -> n >>- \\x -> k $ f x\n",
    "    \n",
    "instance Monad (Cont r) where\n",
    "    return :: a -> Cont r a\n",
    "    return = pure\n",
    "    (>>=) :: Cont r a -> (a -> Cont r b) -> Cont r b\n",
    "    m >>= k = Cont $ \\l -> m >>- \\x -> k x >>- \\y -> l y"
   ]
  },
  {
   "cell_type": "markdown",
   "metadata": {},
   "source": [
    "## The continuation applicative implies the continuation monad \n",
    "\n",
    "It turns out that the `Applicative` instance for `Cont` already implies the `Monad` instance. In the `Cont` monad, the `join m` is equivalent to `m . pure` (minus operations for dealing with the `runCont` boilerplate. This is illustrated below.\n",
    "\n",
    "- TODO prove that this is equivalent to join as standardly defined."
   ]
  },
  {
   "cell_type": "code",
   "execution_count": 34,
   "metadata": {},
   "outputs": [],
   "source": [
    "join :: Cont r (Cont r a) -> Cont r a\n",
    "join m = Cont $ (((>>-) <$> m) >>-) . (>>-) . pure"
   ]
  },
  {
   "cell_type": "markdown",
   "metadata": {},
   "source": [
    "# Indexed continuations\n",
    "\n",
    "Indexed continuations drop the presupposition that what Shan calls the \"answer types\" are identical.\n",
    "\n",
    "- `ixPure` is defined in exactly the same way as the `pure` of `Cont`; answer types must be identical.\n",
    "- The definition of `ixAp` is really *exactly* the same as the definition of the `<*>` of the `Cont` applicative, only the type is more general. What is necessary is that the intermediate result type of the first argument match the final result type of the second argument; these types cancel out."
   ]
  },
  {
   "cell_type": "code",
   "execution_count": 49,
   "metadata": {},
   "outputs": [],
   "source": [
    "ixMap :: (a -> b) -> IxCont r i a -> IxCont r i b\n",
    "ixMap f m = IxCont $ \\k -> m >>- \\x -> k $ f x\n",
    "\n",
    "\n",
    "ixPure :: a -> IxCont r r a\n",
    "ixPure a = IxCont $ \\k -> k a\n",
    "\n",
    "ixAp :: IxCont r r' (a -> b) -> IxCont r' r'' a -> IxCont r r'' b\n",
    "m `ixAp` n = IxCont $ \\k -> m >>- \\f -> n >>- \\x -> k $ f x"
   ]
  },
  {
   "cell_type": "markdown",
   "metadata": {},
   "source": [
    "## The *in\n",
    "\n",
    "- Question: can we define an `ixJoin` in terms of the applicative operations?\n",
    "- Answer: yes, the same trick will work, just so long as the intermediate type of the outer continuation layer matches the final result type of the inner continuation layer."
   ]
  },
  {
   "cell_type": "code",
   "execution_count": 50,
   "metadata": {},
   "outputs": [],
   "source": [
    "ixJoin :: IxCont r'' r (IxCont r r' a) -> IxCont r'' r' a\n",
    "ixJoin m = IxCont $ (((>>-) `ixMap` m) >>-) . (>>-) . ixPure"
   ]
  }
 ],
 "metadata": {
  "kernelspec": {
   "display_name": "Haskell - haskell",
   "language": "haskell",
   "name": "ihaskell_haskell"
  },
  "language_info": {
   "codemirror_mode": "ihaskell",
   "file_extension": ".hs",
   "name": "haskell",
   "pygments_lexer": "Haskell",
   "version": "8.4.4"
  }
 },
 "nbformat": 4,
 "nbformat_minor": 4
}
