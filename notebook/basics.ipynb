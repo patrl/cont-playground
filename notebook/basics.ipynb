{
 "cells": [
  {
   "cell_type": "markdown",
   "metadata": {},
   "source": [
    "Let's start by giving the `Functor`, `Applicative` and `Monad` instances for the continuation type constructor. Using an infix operator instead of the standard `runCont` helps reduce boilerplate."
   ]
  },
  {
   "cell_type": "code",
   "execution_count": 23,
   "metadata": {},
   "outputs": [],
   "source": [
    "{-# LANGUAGE InstanceSigs #-}\n",
    "\n",
    "newtype Cont r a = Cont { (>>-) :: (a -> r) -> r }\n",
    "\n",
    "instance Functor (Cont r) where\n",
    "    fmap :: (a -> b) -> Cont r a -> Cont r b\n",
    "    fmap f m = Cont $ \\k -> m >>- (k . f)\n",
    "    \n",
    "instance Applicative (Cont r) where\n",
    "    pure :: a -> Cont r a\n",
    "    pure a = Cont $ \\k -> k a\n",
    "    (<*>) :: Cont r (a -> b) -> Cont r a -> Cont r b\n",
    "    m <*> n = Cont $ \\k -> m >>- \\f -> n >>- \\x -> k $ f x"
   ]
  },
  {
   "cell_type": "markdown",
   "metadata": {},
   "source": [
    "N.b. we can use `flip fmap` to lift a value into a scope-taker."
   ]
  },
  {
   "cell_type": "code",
   "execution_count": null,
   "metadata": {},
   "outputs": [],
   "source": []
  }
 ],
 "metadata": {
  "kernelspec": {
   "display_name": "Haskell - haskell",
   "language": "haskell",
   "name": "ihaskell_haskell"
  },
  "language_info": {
   "codemirror_mode": "ihaskell",
   "file_extension": ".hs",
   "name": "haskell",
   "pygments_lexer": "Haskell",
   "version": "8.4.4"
  }
 },
 "nbformat": 4,
 "nbformat_minor": 4
}
