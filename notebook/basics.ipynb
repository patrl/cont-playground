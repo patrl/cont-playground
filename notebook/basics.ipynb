{
 "cells": [
  {
   "cell_type": "markdown",
   "metadata": {},
   "source": [
    "# Continuation basics\n",
    "\n",
    "Let's start by giving the `Functor`, `Applicative` and `Monad` instances for the continuation type constructor. Using an infix operator instead of the standard `runCont` helps reduce boilerplate."
   ]
  },
  {
   "cell_type": "code",
   "execution_count": 31,
   "metadata": {},
   "outputs": [],
   "source": [
    "{-# LANGUAGE InstanceSigs #-}\n",
    "\n",
    "newtype Cont r a = Cont { (>>-) :: (a -> r) -> r }\n",
    "\n",
    "instance Functor (Cont r) where\n",
    "    fmap :: (a -> b) -> Cont r a -> Cont r b\n",
    "    fmap f m = Cont $ \\k -> m >>- (k . f)\n",
    "    \n",
    "instance Applicative (Cont r) where\n",
    "    pure :: a -> Cont r a\n",
    "    pure a = Cont $ \\k -> k a\n",
    "    (<*>) :: Cont r (a -> b) -> Cont r a -> Cont r b\n",
    "    m <*> n = Cont $ \\k -> m >>- \\f -> n >>- \\x -> k $ f x\n",
    "    \n",
    "instance Monad (Cont r) where\n",
    "    return :: a -> Cont r a\n",
    "    return = pure\n",
    "    (>>=) :: Cont r a -> (a -> Cont r b) -> Cont r b\n",
    "    m >>= k = Cont $ \\l -> m >>- \\x -> k x >>- \\y -> l y"
   ]
  },
  {
   "cell_type": "markdown",
   "metadata": {},
   "source": [
    "## `Join` follows from `pure`\n",
    "\n",
    "It turns out that the `Applicative` instance for `Cont` already implies the `Monad` instance. In the `Cont` monad, the `join m` is equivalent to `m . pure` (minus operations for dealing with the `runCont` boilerplate. This is illustrated below.\n",
    "\n",
    "- TODO prove that this is equivalent to join as standardly defined."
   ]
  },
  {
   "cell_type": "code",
   "execution_count": 32,
   "metadata": {},
   "outputs": [],
   "source": [
    "join :: Cont r (Cont r a) -> Cont r a\n",
    "join m = Cont $ (((>>-) <$> m) >>-) . (>>-) . pure"
   ]
  }
 ],
 "metadata": {
  "kernelspec": {
   "display_name": "Haskell - haskell",
   "language": "haskell",
   "name": "ihaskell_haskell"
  },
  "language_info": {
   "codemirror_mode": "ihaskell",
   "file_extension": ".hs",
   "name": "haskell",
   "pygments_lexer": "Haskell",
   "version": "8.4.4"
  }
 },
 "nbformat": 4,
 "nbformat_minor": 4
}
